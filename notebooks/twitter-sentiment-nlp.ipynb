{
 "cells": [
  {
   "cell_type": "code",
   "execution_count": 1,
   "metadata": {
    "_cell_guid": "b1076dfc-b9ad-4769-8c92-a6c4dae69d19",
    "_uuid": "8f2839f25d086af736a60e9eeb907d3b93b6e0e5",
    "execution": {
     "iopub.execute_input": "2025-06-18T21:49:08.833610Z",
     "iopub.status.busy": "2025-06-18T21:49:08.832880Z",
     "iopub.status.idle": "2025-06-18T21:49:38.908559Z",
     "shell.execute_reply": "2025-06-18T21:49:38.907993Z",
     "shell.execute_reply.started": "2025-06-18T21:49:08.833584Z"
    },
    "trusted": true
   },
   "outputs": [
    {
     "name": "stderr",
     "output_type": "stream",
     "text": [
      "2025-06-18 21:49:25.234243: E external/local_xla/xla/stream_executor/cuda/cuda_fft.cc:477] Unable to register cuFFT factory: Attempting to register factory for plugin cuFFT when one has already been registered\n",
      "WARNING: All log messages before absl::InitializeLog() is called are written to STDERR\n",
      "E0000 00:00:1750283365.473735      35 cuda_dnn.cc:8310] Unable to register cuDNN factory: Attempting to register factory for plugin cuDNN when one has already been registered\n",
      "E0000 00:00:1750283365.544972      35 cuda_blas.cc:1418] Unable to register cuBLAS factory: Attempting to register factory for plugin cuBLAS when one has already been registered\n"
     ]
    }
   ],
   "source": [
    "import pandas as pd \n",
    "import torch\n",
    "from sklearn.model_selection import train_test_split\n",
    "from datasets import Dataset\n",
    "from transformers import AutoTokenizer, AutoModelForSequenceClassification, TrainingArguments, Trainer\n",
    "from transformers import DataCollatorWithPadding\n",
    "import numpy as np\n",
    "from sklearn.metrics import classification_report, accuracy_score"
   ]
  },
  {
   "cell_type": "code",
   "execution_count": null,
   "metadata": {
    "execution": {
     "iopub.execute_input": "2025-06-18T21:49:38.910418Z",
     "iopub.status.busy": "2025-06-18T21:49:38.909752Z",
     "iopub.status.idle": "2025-06-18T21:49:39.253343Z",
     "shell.execute_reply": "2025-06-18T21:49:39.252792Z",
     "shell.execute_reply.started": "2025-06-18T21:49:38.910388Z"
    },
    "trusted": true
   },
   "outputs": [],
   "source": [
    "ar_data4 = pd.read_csv(\"/kaggle/input/ar-data-train-tweet/ar_tweet_train/train_all.csv\")"
   ]
  },
  {
   "cell_type": "code",
   "execution_count": 3,
   "metadata": {
    "execution": {
     "iopub.execute_input": "2025-06-18T21:49:39.254237Z",
     "iopub.status.busy": "2025-06-18T21:49:39.254015Z",
     "iopub.status.idle": "2025-06-18T21:49:39.271012Z",
     "shell.execute_reply": "2025-06-18T21:49:39.270207Z",
     "shell.execute_reply.started": "2025-06-18T21:49:39.254221Z"
    },
    "trusted": true
   },
   "outputs": [
    {
     "data": {
      "text/plain": [
       "sentiment\n",
       "neutral     37359\n",
       "positive     8821\n",
       "negative     8820\n",
       "Name: count, dtype: int64"
      ]
     },
     "execution_count": 3,
     "metadata": {},
     "output_type": "execute_result"
    }
   ],
   "source": [
    "ar_data4[\"sentiment\"].value_counts()"
   ]
  },
  {
   "cell_type": "code",
   "execution_count": 4,
   "metadata": {
    "execution": {
     "iopub.execute_input": "2025-06-18T21:49:39.273293Z",
     "iopub.status.busy": "2025-06-18T21:49:39.273085Z",
     "iopub.status.idle": "2025-06-18T21:49:39.295849Z",
     "shell.execute_reply": "2025-06-18T21:49:39.295278Z",
     "shell.execute_reply.started": "2025-06-18T21:49:39.273278Z"
    },
    "trusted": true
   },
   "outputs": [],
   "source": [
    "ar_data4 = ar_data4.drop(\"Tweet_id\", axis=1)\n"
   ]
  },
  {
   "cell_type": "code",
   "execution_count": 5,
   "metadata": {
    "execution": {
     "iopub.execute_input": "2025-06-18T21:49:39.296624Z",
     "iopub.status.busy": "2025-06-18T21:49:39.296440Z",
     "iopub.status.idle": "2025-06-18T21:49:39.330477Z",
     "shell.execute_reply": "2025-06-18T21:49:39.329740Z",
     "shell.execute_reply.started": "2025-06-18T21:49:39.296608Z"
    },
    "trusted": true
   },
   "outputs": [],
   "source": [
    "neutral_samples = ar_data4[ar_data4[\"sentiment\"] == \"neutral\"].sample(n=8000, random_state=42)\n",
    "positive_samples = ar_data4[ar_data4[\"sentiment\"] == \"positive\"].sample(n=8000, random_state=42)\n",
    "negative_samples = ar_data4[ar_data4[\"sentiment\"] == \"negative\"].sample(n=8000, random_state=42)\n"
   ]
  },
  {
   "cell_type": "code",
   "execution_count": 6,
   "metadata": {
    "execution": {
     "iopub.execute_input": "2025-06-18T21:49:39.331681Z",
     "iopub.status.busy": "2025-06-18T21:49:39.331467Z",
     "iopub.status.idle": "2025-06-18T21:49:39.335607Z",
     "shell.execute_reply": "2025-06-18T21:49:39.334983Z",
     "shell.execute_reply.started": "2025-06-18T21:49:39.331665Z"
    },
    "trusted": true
   },
   "outputs": [],
   "source": [
    "balanced_ar_train_data = pd.concat([neutral_samples, positive_samples, negative_samples], ignore_index=True)\n"
   ]
  },
  {
   "cell_type": "code",
   "execution_count": 7,
   "metadata": {
    "execution": {
     "iopub.execute_input": "2025-06-18T21:49:39.336990Z",
     "iopub.status.busy": "2025-06-18T21:49:39.336463Z",
     "iopub.status.idle": "2025-06-18T21:49:39.780799Z",
     "shell.execute_reply": "2025-06-18T21:49:39.780060Z",
     "shell.execute_reply.started": "2025-06-18T21:49:39.336965Z"
    },
    "trusted": true
   },
   "outputs": [
    {
     "data": {
      "image/png": "[encoded data removed]",
      "text/plain": [
       "<Figure size 600x400 with 1 Axes>"
      ]
     },
     "metadata": {},
     "output_type": "display_data"
    }
   ],
   "source": [
    "import matplotlib.pyplot as plt\n",
    "import seaborn as sns\n",
    "\n",
    "plt.figure(figsize=(6,4))\n",
    "sns.countplot(data=balanced_ar_train_data, x='sentiment', order=['negative', 'neutral', 'positive'], palette='Set2')\n",
    "plt.title('Distribution of Sentiment Labels')\n",
    "plt.xlabel('Sentiment')\n",
    "plt.ylabel('Count')\n",
    "plt.show()\n"
   ]
  },
  {
   "cell_type": "code",
   "execution_count": 8,
   "metadata": {
    "execution": {
     "iopub.execute_input": "2025-06-18T21:49:39.782054Z",
     "iopub.status.busy": "2025-06-18T21:49:39.781485Z",
     "iopub.status.idle": "2025-06-18T21:49:39.787358Z",
     "shell.execute_reply": "2025-06-18T21:49:39.786630Z",
     "shell.execute_reply.started": "2025-06-18T21:49:39.782033Z"
    },
    "trusted": true
   },
   "outputs": [],
   "source": [
    "balanced_ar_train_data = balanced_ar_train_data.rename(columns={\"sentiment\": \"labels\" })\n"
   ]
  },
  {
   "cell_type": "code",
   "execution_count": 9,
   "metadata": {
    "execution": {
     "iopub.execute_input": "2025-06-18T21:49:39.788443Z",
     "iopub.status.busy": "2025-06-18T21:49:39.788249Z",
     "iopub.status.idle": "2025-06-18T21:49:39.818522Z",
     "shell.execute_reply": "2025-06-18T21:49:39.817845Z",
     "shell.execute_reply.started": "2025-06-18T21:49:39.788428Z"
    },
    "trusted": true
   },
   "outputs": [
    {
     "data": {
      "text/html": [
       "<div>\n",
       "<style scoped>\n",
       "    .dataframe tbody tr th:only-of-type {\n",
       "        vertical-align: middle;\n",
       "    }\n",
       "\n",
       "    .dataframe tbody tr th {\n",
       "        vertical-align: top;\n",
       "    }\n",
       "\n",
       "    .dataframe thead th {\n",
       "        text-align: right;\n",
       "    }\n",
       "</style>\n",
       "<table border=\"1\" class=\"dataframe\">\n",
       "  <thead>\n",
       "    <tr style=\"text-align: right;\">\n",
       "      <th></th>\n",
       "      <th>labels</th>\n",
       "      <th>Text</th>\n",
       "    </tr>\n",
       "  </thead>\n",
       "  <tbody>\n",
       "    <tr>\n",
       "      <th>0</th>\n",
       "      <td>neutral</td>\n",
       "      <td>@mhrsd_care السلام عليكم كيف اقدر اقدم بلاغ..؟</td>\n",
       "    </tr>\n",
       "    <tr>\n",
       "      <th>1</th>\n",
       "      <td>neutral</td>\n",
       "      <td>@MoweSa تم طلب تصريح تم رفض ذلك ماهي الأسباب. ...</td>\n",
       "    </tr>\n",
       "    <tr>\n",
       "      <th>2</th>\n",
       "      <td>neutral</td>\n",
       "      <td>اللهم إرحم من فارق دِيَارنا وأصبح القبر داره  ...</td>\n",
       "    </tr>\n",
       "    <tr>\n",
       "      <th>3</th>\n",
       "      <td>neutral</td>\n",
       "      <td>قال علي رضي الله عنه للحسن : كن في الدنيا ببدن...</td>\n",
       "    </tr>\n",
       "    <tr>\n",
       "      <th>4</th>\n",
       "      <td>neutral</td>\n",
       "      <td>#حذف_امازون_وسوق_كوم انا مع. وطني ووطني مصرح ا...</td>\n",
       "    </tr>\n",
       "    <tr>\n",
       "      <th>...</th>\n",
       "      <td>...</td>\n",
       "      <td>...</td>\n",
       "    </tr>\n",
       "    <tr>\n",
       "      <th>23995</th>\n",
       "      <td>negative</td>\n",
       "      <td>#360_يوم_إنتهاكات تكميم افواه قمع حريات استبدا...</td>\n",
       "    </tr>\n",
       "    <tr>\n",
       "      <th>23996</th>\n",
       "      <td>negative</td>\n",
       "      <td>هاتو موضوع نسولف فيه غير كورونا .. ويلكم ملينا...</td>\n",
       "    </tr>\n",
       "    <tr>\n",
       "      <th>23997</th>\n",
       "      <td>negative</td>\n",
       "      <td>لا انا علي طول بعد الي يجعلني حزين</td>\n",
       "    </tr>\n",
       "    <tr>\n",
       "      <th>23998</th>\n",
       "      <td>negative</td>\n",
       "      <td>عندى كمية أسئلة ل نفسى و على نفسى و نفسى ف اجابة</td>\n",
       "    </tr>\n",
       "    <tr>\n",
       "      <th>23999</th>\n",
       "      <td>negative</td>\n",
       "      <td>@Turki_alalshikh كيف معرض الصقور طاقته ١١ ألف ...</td>\n",
       "    </tr>\n",
       "  </tbody>\n",
       "</table>\n",
       "<p>24000 rows × 2 columns</p>\n",
       "</div>"
      ],
      "text/plain": [
       "         labels                                               Text\n",
       "0       neutral     @mhrsd_care السلام عليكم كيف اقدر اقدم بلاغ..؟\n",
       "1       neutral  @MoweSa تم طلب تصريح تم رفض ذلك ماهي الأسباب. ...\n",
       "2       neutral  اللهم إرحم من فارق دِيَارنا وأصبح القبر داره  ...\n",
       "3       neutral  قال علي رضي الله عنه للحسن : كن في الدنيا ببدن...\n",
       "4       neutral  #حذف_امازون_وسوق_كوم انا مع. وطني ووطني مصرح ا...\n",
       "...         ...                                                ...\n",
       "23995  negative  #360_يوم_إنتهاكات تكميم افواه قمع حريات استبدا...\n",
       "23996  negative  هاتو موضوع نسولف فيه غير كورونا .. ويلكم ملينا...\n",
       "23997  negative                 لا انا علي طول بعد الي يجعلني حزين\n",
       "23998  negative   عندى كمية أسئلة ل نفسى و على نفسى و نفسى ف اجابة\n",
       "23999  negative  @Turki_alalshikh كيف معرض الصقور طاقته ١١ ألف ...\n",
       "\n",
       "[24000 rows x 2 columns]"
      ]
     },
     "execution_count": 9,
     "metadata": {},
     "output_type": "execute_result"
    }
   ],
   "source": [
    "balanced_ar_train_data"
   ]
  },
  {
   "cell_type": "markdown",
   "metadata": {},
   "source": [
    "# Test Data"
   ]
  },
  {
   "cell_type": "code",
   "execution_count": 10,
   "metadata": {
    "execution": {
     "iopub.execute_input": "2025-06-18T21:49:39.820803Z",
     "iopub.status.busy": "2025-06-18T21:49:39.820576Z",
     "iopub.status.idle": "2025-06-18T21:49:39.865955Z",
     "shell.execute_reply": "2025-06-18T21:49:39.865224Z",
     "shell.execute_reply.started": "2025-06-18T21:49:39.820788Z"
    },
    "trusted": true
   },
   "outputs": [],
   "source": [
    "ar_data3 = pd.read_csv(\"/kaggle/input/ar-tweets/Tweets.txt\", sep=\"\\t\", header=None, names=[\"text\", \"labels\"], encoding=\"utf-8\")"
   ]
  },
  {
   "cell_type": "code",
   "execution_count": 11,
   "metadata": {
    "execution": {
     "iopub.execute_input": "2025-06-18T21:49:39.866903Z",
     "iopub.status.busy": "2025-06-18T21:49:39.866681Z",
     "iopub.status.idle": "2025-06-18T21:49:39.885518Z",
     "shell.execute_reply": "2025-06-18T21:49:39.885044Z",
     "shell.execute_reply.started": "2025-06-18T21:49:39.866887Z"
    },
    "trusted": true
   },
   "outputs": [],
   "source": [
    "ar_data2 = pd.read_csv(\"/kaggle/input/nlp-arabic-tweets-competition/train.csv\")"
   ]
  },
  {
   "cell_type": "code",
   "execution_count": 12,
   "metadata": {
    "execution": {
     "iopub.execute_input": "2025-06-18T21:49:39.886322Z",
     "iopub.status.busy": "2025-06-18T21:49:39.886142Z",
     "iopub.status.idle": "2025-06-18T21:49:39.894343Z",
     "shell.execute_reply": "2025-06-18T21:49:39.893674Z",
     "shell.execute_reply.started": "2025-06-18T21:49:39.886307Z"
    },
    "trusted": true
   },
   "outputs": [
    {
     "data": {
      "text/html": [
       "<div>\n",
       "<style scoped>\n",
       "    .dataframe tbody tr th:only-of-type {\n",
       "        vertical-align: middle;\n",
       "    }\n",
       "\n",
       "    .dataframe tbody tr th {\n",
       "        vertical-align: top;\n",
       "    }\n",
       "\n",
       "    .dataframe thead th {\n",
       "        text-align: right;\n",
       "    }\n",
       "</style>\n",
       "<table border=\"1\" class=\"dataframe\">\n",
       "  <thead>\n",
       "    <tr style=\"text-align: right;\">\n",
       "      <th></th>\n",
       "      <th>tweet</th>\n",
       "      <th>class</th>\n",
       "    </tr>\n",
       "  </thead>\n",
       "  <tbody>\n",
       "    <tr>\n",
       "      <th>0</th>\n",
       "      <td>' #علمتني_الحياه أن الذين يعيشون على الأرض ليس...</td>\n",
       "      <td>pos</td>\n",
       "    </tr>\n",
       "    <tr>\n",
       "      <th>1</th>\n",
       "      <td>' #ميري_كرسمس كل سنة وانتم طيبين http://t.co/n...</td>\n",
       "      <td>pos</td>\n",
       "    </tr>\n",
       "    <tr>\n",
       "      <th>2</th>\n",
       "      <td>' و انتهى مشوار الخواجة '</td>\n",
       "      <td>neg</td>\n",
       "    </tr>\n",
       "    <tr>\n",
       "      <th>3</th>\n",
       "      <td>' مش عارف ابتدى مذاكره منين :/ '</td>\n",
       "      <td>neg</td>\n",
       "    </tr>\n",
       "    <tr>\n",
       "      <th>4</th>\n",
       "      <td>' @mskhafagi  إختصروا الطريق بدلا من إختيار ال...</td>\n",
       "      <td>neg</td>\n",
       "    </tr>\n",
       "    <tr>\n",
       "      <th>...</th>\n",
       "      <td>...</td>\n",
       "      <td>...</td>\n",
       "    </tr>\n",
       "    <tr>\n",
       "      <th>2054</th>\n",
       "      <td>' @wasfa_N الجمال مبيحتاح اي مكياج لناعم وله خ...</td>\n",
       "      <td>neu</td>\n",
       "    </tr>\n",
       "    <tr>\n",
       "      <th>2055</th>\n",
       "      <td>' @TheMurexDor نتمني وجود الفنانة رنا سماحة اف...</td>\n",
       "      <td>neu</td>\n",
       "    </tr>\n",
       "    <tr>\n",
       "      <th>2056</th>\n",
       "      <td>' ولد الهدى فالكائنات ضياء .. وفم الزمان تبسم ...</td>\n",
       "      <td>pos</td>\n",
       "    </tr>\n",
       "    <tr>\n",
       "      <th>2057</th>\n",
       "      <td>' @mohamed71944156 @samarroshdy1 انت متناقض جد...</td>\n",
       "      <td>neg</td>\n",
       "    </tr>\n",
       "    <tr>\n",
       "      <th>2058</th>\n",
       "      <td>' منطقة السيدة زينب ليلة المولد @ مسجد السيدة ...</td>\n",
       "      <td>neu</td>\n",
       "    </tr>\n",
       "  </tbody>\n",
       "</table>\n",
       "<p>2059 rows × 2 columns</p>\n",
       "</div>"
      ],
      "text/plain": [
       "                                                  tweet class\n",
       "0     ' #علمتني_الحياه أن الذين يعيشون على الأرض ليس...   pos\n",
       "1     ' #ميري_كرسمس كل سنة وانتم طيبين http://t.co/n...   pos\n",
       "2                             ' و انتهى مشوار الخواجة '   neg\n",
       "3                      ' مش عارف ابتدى مذاكره منين :/ '   neg\n",
       "4     ' @mskhafagi  إختصروا الطريق بدلا من إختيار ال...   neg\n",
       "...                                                 ...   ...\n",
       "2054  ' @wasfa_N الجمال مبيحتاح اي مكياج لناعم وله خ...   neu\n",
       "2055  ' @TheMurexDor نتمني وجود الفنانة رنا سماحة اف...   neu\n",
       "2056  ' ولد الهدى فالكائنات ضياء .. وفم الزمان تبسم ...   pos\n",
       "2057  ' @mohamed71944156 @samarroshdy1 انت متناقض جد...   neg\n",
       "2058  ' منطقة السيدة زينب ليلة المولد @ مسجد السيدة ...   neu\n",
       "\n",
       "[2059 rows x 2 columns]"
      ]
     },
     "execution_count": 12,
     "metadata": {},
     "output_type": "execute_result"
    }
   ],
   "source": [
    "ar_data2"
   ]
  },
  {
   "cell_type": "code",
   "execution_count": 13,
   "metadata": {
    "execution": {
     "iopub.execute_input": "2025-06-18T21:49:39.895224Z",
     "iopub.status.busy": "2025-06-18T21:49:39.895039Z",
     "iopub.status.idle": "2025-06-18T21:49:39.910472Z",
     "shell.execute_reply": "2025-06-18T21:49:39.909698Z",
     "shell.execute_reply.started": "2025-06-18T21:49:39.895211Z"
    },
    "trusted": true
   },
   "outputs": [],
   "source": [
    "ar_data2 = ar_data2.rename(columns={\"class\": \"labels\",\"tweet\":\"Text\"})\n",
    "ar_data3 = ar_data3.rename(columns={\"labels\": \"labels\",\"text\":\"Text\"})\n"
   ]
  },
  {
   "cell_type": "code",
   "execution_count": 14,
   "metadata": {
    "execution": {
     "iopub.execute_input": "2025-06-18T21:49:39.911507Z",
     "iopub.status.busy": "2025-06-18T21:49:39.911244Z",
     "iopub.status.idle": "2025-06-18T21:49:39.928611Z",
     "shell.execute_reply": "2025-06-18T21:49:39.927967Z",
     "shell.execute_reply.started": "2025-06-18T21:49:39.911483Z"
    },
    "trusted": true
   },
   "outputs": [
    {
     "data": {
      "text/plain": [
       "labels\n",
       "OBJ        6470\n",
       "NEG        1642\n",
       "NEUTRAL     805\n",
       "POS         777\n",
       "Name: count, dtype: int64"
      ]
     },
     "execution_count": 14,
     "metadata": {},
     "output_type": "execute_result"
    }
   ],
   "source": [
    "ar_data3[\"labels\"].value_counts()"
   ]
  },
  {
   "cell_type": "code",
   "execution_count": 15,
   "metadata": {
    "execution": {
     "iopub.execute_input": "2025-06-18T21:49:39.929468Z",
     "iopub.status.busy": "2025-06-18T21:49:39.929244Z",
     "iopub.status.idle": "2025-06-18T21:49:39.949424Z",
     "shell.execute_reply": "2025-06-18T21:49:39.948737Z",
     "shell.execute_reply.started": "2025-06-18T21:49:39.929445Z"
    },
    "trusted": true
   },
   "outputs": [],
   "source": [
    "neutral_samples_test = ar_data3[ar_data3[\"labels\"] == \"NEUTRAL\"].sample(n=800, random_state=42)\n",
    "positive_samples_test = ar_data3[ar_data3[\"labels\"] == \"POS\"].sample(n=700, random_state=42)\n",
    "negative_samples_test = ar_data3[ar_data3[\"labels\"] == \"NEG\"].sample(n=700, random_state=42)"
   ]
  },
  {
   "cell_type": "code",
   "execution_count": 16,
   "metadata": {
    "execution": {
     "iopub.execute_input": "2025-06-18T21:49:39.950294Z",
     "iopub.status.busy": "2025-06-18T21:49:39.950090Z",
     "iopub.status.idle": "2025-06-18T21:49:39.963605Z",
     "shell.execute_reply": "2025-06-18T21:49:39.962931Z",
     "shell.execute_reply.started": "2025-06-18T21:49:39.950279Z"
    },
    "trusted": true
   },
   "outputs": [
    {
     "data": {
      "text/plain": [
       "labels\n",
       "pos    792\n",
       "neg    677\n",
       "neu    590\n",
       "Name: count, dtype: int64"
      ]
     },
     "execution_count": 16,
     "metadata": {},
     "output_type": "execute_result"
    }
   ],
   "source": [
    "ar_data2[\"labels\"].value_counts()"
   ]
  },
  {
   "cell_type": "code",
   "execution_count": 17,
   "metadata": {
    "execution": {
     "iopub.execute_input": "2025-06-18T21:49:39.964926Z",
     "iopub.status.busy": "2025-06-18T21:49:39.964300Z",
     "iopub.status.idle": "2025-06-18T21:49:39.982117Z",
     "shell.execute_reply": "2025-06-18T21:49:39.981532Z",
     "shell.execute_reply.started": "2025-06-18T21:49:39.964900Z"
    },
    "trusted": true
   },
   "outputs": [],
   "source": [
    "neutral_samples_test2 = ar_data2[ar_data2[\"labels\"] == \"neu\"].sample(n=500, random_state=42)\n",
    "positive_samples_test2 = ar_data2[ar_data2[\"labels\"] == \"pos\"].sample(n=600, random_state=42)\n",
    "negative_samples_test2 = ar_data2[ar_data2[\"labels\"] == \"neg\"].sample(n=600, random_state=42)"
   ]
  },
  {
   "cell_type": "code",
   "execution_count": 18,
   "metadata": {
    "execution": {
     "iopub.execute_input": "2025-06-18T21:49:39.982963Z",
     "iopub.status.busy": "2025-06-18T21:49:39.982763Z",
     "iopub.status.idle": "2025-06-18T21:49:39.997883Z",
     "shell.execute_reply": "2025-06-18T21:49:39.997205Z",
     "shell.execute_reply.started": "2025-06-18T21:49:39.982943Z"
    },
    "trusted": true
   },
   "outputs": [],
   "source": [
    "balanced_ar_test_data = pd.concat([neutral_samples_test, positive_samples_test, negative_samples_test,neutral_samples_test2,positive_samples_test2,negative_samples_test2], ignore_index=True)\n"
   ]
  },
  {
   "cell_type": "code",
   "execution_count": 19,
   "metadata": {
    "execution": {
     "iopub.execute_input": "2025-06-18T21:49:39.998791Z",
     "iopub.status.busy": "2025-06-18T21:49:39.998565Z",
     "iopub.status.idle": "2025-06-18T21:49:40.016301Z",
     "shell.execute_reply": "2025-06-18T21:49:40.015723Z",
     "shell.execute_reply.started": "2025-06-18T21:49:39.998769Z"
    },
    "trusted": true
   },
   "outputs": [],
   "source": [
    "balanced_ar_test_data[\"labels\"] = balanced_ar_test_data[\"labels\"].replace({\n",
    "    \"POS\": \"positive\", \"pos\": \"positive\",\n",
    "    \"NEG\": \"negative\", \"neg\": \"negative\",\n",
    "    \"NEUTRAL\": \"neutral\", \"neu\": \"neutral\"\n",
    "})"
   ]
  },
  {
   "cell_type": "code",
   "execution_count": 20,
   "metadata": {
    "execution": {
     "iopub.execute_input": "2025-06-18T21:49:40.017258Z",
     "iopub.status.busy": "2025-06-18T21:49:40.016996Z",
     "iopub.status.idle": "2025-06-18T21:49:40.034815Z",
     "shell.execute_reply": "2025-06-18T21:49:40.034070Z",
     "shell.execute_reply.started": "2025-06-18T21:49:40.017243Z"
    },
    "trusted": true
   },
   "outputs": [
    {
     "data": {
      "text/plain": [
       "labels\n",
       "neutral     1300\n",
       "positive    1300\n",
       "negative    1300\n",
       "Name: count, dtype: int64"
      ]
     },
     "execution_count": 20,
     "metadata": {},
     "output_type": "execute_result"
    }
   ],
   "source": [
    "balanced_ar_test_data[\"labels\"].value_counts()"
   ]
  },
  {
   "cell_type": "markdown",
   "metadata": {},
   "source": [
    "# EN_Data"
   ]
  },
  {
   "cell_type": "code",
   "execution_count": 21,
   "metadata": {
    "execution": {
     "iopub.execute_input": "2025-06-18T21:49:40.035784Z",
     "iopub.status.busy": "2025-06-18T21:49:40.035526Z",
     "iopub.status.idle": "2025-06-18T21:49:55.484007Z",
     "shell.execute_reply": "2025-06-18T21:49:55.483419Z",
     "shell.execute_reply.started": "2025-06-18T21:49:40.035762Z"
    },
    "trusted": true
   },
   "outputs": [],
   "source": [
    "en_data = pd.read_csv(\"/kaggle/input/en-tweets-sentiment/betsentiment-EN-tweets-sentiment-players.csv\", encoding='ISO-8859-1')\n"
   ]
  },
  {
   "cell_type": "code",
   "execution_count": 22,
   "metadata": {
    "execution": {
     "iopub.execute_input": "2025-06-18T21:49:55.484929Z",
     "iopub.status.busy": "2025-06-18T21:49:55.484727Z",
     "iopub.status.idle": "2025-06-18T21:49:55.608888Z",
     "shell.execute_reply": "2025-06-18T21:49:55.608060Z",
     "shell.execute_reply.started": "2025-06-18T21:49:55.484914Z"
    },
    "trusted": true
   },
   "outputs": [
    {
     "data": {
      "text/plain": [
       "sentiment\n",
       "NEUTRAL     1309490\n",
       "POSITIVE     499342\n",
       "NEGATIVE     109858\n",
       "MIXED         12646\n",
       "Name: count, dtype: int64"
      ]
     },
     "execution_count": 22,
     "metadata": {},
     "output_type": "execute_result"
    }
   ],
   "source": [
    "en_data[\"sentiment\"].value_counts()"
   ]
  },
  {
   "cell_type": "code",
   "execution_count": 23,
   "metadata": {
    "execution": {
     "iopub.execute_input": "2025-06-18T21:49:55.610681Z",
     "iopub.status.busy": "2025-06-18T21:49:55.609728Z",
     "iopub.status.idle": "2025-06-18T21:49:55.667125Z",
     "shell.execute_reply": "2025-06-18T21:49:55.666428Z",
     "shell.execute_reply.started": "2025-06-18T21:49:55.610650Z"
    },
    "trusted": true
   },
   "outputs": [],
   "source": [
    "samples_data=en_data[:200000].drop([\"tweet_id\",\"language\" ,\"sentiment_score\",\"tweet_date_created\"],axis=1)"
   ]
  },
  {
   "cell_type": "code",
   "execution_count": 24,
   "metadata": {
    "execution": {
     "iopub.execute_input": "2025-06-18T21:49:55.667968Z",
     "iopub.status.busy": "2025-06-18T21:49:55.667794Z",
     "iopub.status.idle": "2025-06-18T21:49:55.678324Z",
     "shell.execute_reply": "2025-06-18T21:49:55.677545Z",
     "shell.execute_reply.started": "2025-06-18T21:49:55.667954Z"
    },
    "trusted": true
   },
   "outputs": [
    {
     "data": {
      "text/html": [
       "<div>\n",
       "<style scoped>\n",
       "    .dataframe tbody tr th:only-of-type {\n",
       "        vertical-align: middle;\n",
       "    }\n",
       "\n",
       "    .dataframe tbody tr th {\n",
       "        vertical-align: top;\n",
       "    }\n",
       "\n",
       "    .dataframe thead th {\n",
       "        text-align: right;\n",
       "    }\n",
       "</style>\n",
       "<table border=\"1\" class=\"dataframe\">\n",
       "  <thead>\n",
       "    <tr style=\"text-align: right;\">\n",
       "      <th></th>\n",
       "      <th>tweet_text</th>\n",
       "      <th>sentiment</th>\n",
       "    </tr>\n",
       "  </thead>\n",
       "  <tbody>\n",
       "    <tr>\n",
       "      <th>0</th>\n",
       "      <td>I vote @BernardoCSilva for @Budweiser #Manofth...</td>\n",
       "      <td>NEUTRAL</td>\n",
       "    </tr>\n",
       "    <tr>\n",
       "      <th>1</th>\n",
       "      <td>When is your first match? Didn't see you today...</td>\n",
       "      <td>NEUTRAL</td>\n",
       "    </tr>\n",
       "    <tr>\n",
       "      <th>2</th>\n",
       "      <td>@Cristiano You never know what you had till it...</td>\n",
       "      <td>NEUTRAL</td>\n",
       "    </tr>\n",
       "    <tr>\n",
       "      <th>3</th>\n",
       "      <td>@youngy18 @England You look good man I'd appre...</td>\n",
       "      <td>POSITIVE</td>\n",
       "    </tr>\n",
       "    <tr>\n",
       "      <th>4</th>\n",
       "      <td>@LFC @officialAL20 @IntChampionsCup @ManUtd Ex...</td>\n",
       "      <td>NEUTRAL</td>\n",
       "    </tr>\n",
       "    <tr>\n",
       "      <th>...</th>\n",
       "      <td>...</td>\n",
       "      <td>...</td>\n",
       "    </tr>\n",
       "    <tr>\n",
       "      <th>199995</th>\n",
       "      <td>@Spudfish83 If they are in the #WorldCup then ...</td>\n",
       "      <td>NEUTRAL</td>\n",
       "    </tr>\n",
       "    <tr>\n",
       "      <th>199996</th>\n",
       "      <td>@FrankYeboahk @SergioRamos @realmadrid Always ...</td>\n",
       "      <td>NEUTRAL</td>\n",
       "    </tr>\n",
       "    <tr>\n",
       "      <th>199997</th>\n",
       "      <td>.@LCFC's own @BenChilwell about to come on, as...</td>\n",
       "      <td>NEUTRAL</td>\n",
       "    </tr>\n",
       "    <tr>\n",
       "      <th>199998</th>\n",
       "      <td>@NickVann1987 @LeeGunner82 @cesc4official As m...</td>\n",
       "      <td>POSITIVE</td>\n",
       "    </tr>\n",
       "    <tr>\n",
       "      <th>199999</th>\n",
       "      <td>@Raul_Jimenez9 @WolvesEspanol @Wolves Welcome ...</td>\n",
       "      <td>NEUTRAL</td>\n",
       "    </tr>\n",
       "  </tbody>\n",
       "</table>\n",
       "<p>200000 rows × 2 columns</p>\n",
       "</div>"
      ],
      "text/plain": [
       "                                               tweet_text sentiment\n",
       "0       I vote @BernardoCSilva for @Budweiser #Manofth...   NEUTRAL\n",
       "1       When is your first match? Didn't see you today...   NEUTRAL\n",
       "2       @Cristiano You never know what you had till it...   NEUTRAL\n",
       "3       @youngy18 @England You look good man I'd appre...  POSITIVE\n",
       "4       @LFC @officialAL20 @IntChampionsCup @ManUtd Ex...   NEUTRAL\n",
       "...                                                   ...       ...\n",
       "199995  @Spudfish83 If they are in the #WorldCup then ...   NEUTRAL\n",
       "199996  @FrankYeboahk @SergioRamos @realmadrid Always ...   NEUTRAL\n",
       "199997  .@LCFC's own @BenChilwell about to come on, as...   NEUTRAL\n",
       "199998  @NickVann1987 @LeeGunner82 @cesc4official As m...  POSITIVE\n",
       "199999  @Raul_Jimenez9 @WolvesEspanol @Wolves Welcome ...   NEUTRAL\n",
       "\n",
       "[200000 rows x 2 columns]"
      ]
     },
     "execution_count": 24,
     "metadata": {},
     "output_type": "execute_result"
    }
   ],
   "source": [
    "samples_data"
   ]
  },
  {
   "cell_type": "code",
   "execution_count": 25,
   "metadata": {
    "execution": {
     "iopub.execute_input": "2025-06-18T21:49:55.679532Z",
     "iopub.status.busy": "2025-06-18T21:49:55.679245Z",
     "iopub.status.idle": "2025-06-18T21:49:55.708793Z",
     "shell.execute_reply": "2025-06-18T21:49:55.708117Z",
     "shell.execute_reply.started": "2025-06-18T21:49:55.679510Z"
    },
    "trusted": true
   },
   "outputs": [
    {
     "data": {
      "text/plain": [
       "sentiment\n",
       "NEUTRAL     135367\n",
       "POSITIVE     51909\n",
       "NEGATIVE     11392\n",
       "MIXED         1332\n",
       "Name: count, dtype: int64"
      ]
     },
     "execution_count": 25,
     "metadata": {},
     "output_type": "execute_result"
    }
   ],
   "source": [
    "samples_data[\"sentiment\"].value_counts()"
   ]
  },
  {
   "cell_type": "code",
   "execution_count": 26,
   "metadata": {
    "execution": {
     "iopub.execute_input": "2025-06-18T21:49:55.709710Z",
     "iopub.status.busy": "2025-06-18T21:49:55.709487Z",
     "iopub.status.idle": "2025-06-18T21:49:55.783099Z",
     "shell.execute_reply": "2025-06-18T21:49:55.782555Z",
     "shell.execute_reply.started": "2025-06-18T21:49:55.709673Z"
    },
    "trusted": true
   },
   "outputs": [],
   "source": [
    "en_neutral_samples = samples_data[samples_data[\"sentiment\"] == \"NEUTRAL\"].sample(n=8000, random_state=42)\n",
    "en_positive_samples = samples_data[samples_data[\"sentiment\"] == \"POSITIVE\"].sample(n=8000, random_state=42)\n",
    "en_negative_samples = samples_data[samples_data[\"sentiment\"] == \"NEGATIVE\"].sample(n=8000, random_state=42)"
   ]
  },
  {
   "cell_type": "code",
   "execution_count": 27,
   "metadata": {
    "execution": {
     "iopub.execute_input": "2025-06-18T21:49:55.783945Z",
     "iopub.status.busy": "2025-06-18T21:49:55.783754Z",
     "iopub.status.idle": "2025-06-18T21:49:55.788494Z",
     "shell.execute_reply": "2025-06-18T21:49:55.787813Z",
     "shell.execute_reply.started": "2025-06-18T21:49:55.783931Z"
    },
    "trusted": true
   },
   "outputs": [],
   "source": [
    "balanced_en_train_data = pd.concat([en_neutral_samples, en_positive_samples, en_negative_samples], ignore_index=True)"
   ]
  },
  {
   "cell_type": "code",
   "execution_count": 28,
   "metadata": {
    "execution": {
     "iopub.execute_input": "2025-06-18T21:49:55.792618Z",
     "iopub.status.busy": "2025-06-18T21:49:55.792421Z",
     "iopub.status.idle": "2025-06-18T21:49:55.808970Z",
     "shell.execute_reply": "2025-06-18T21:49:55.808350Z",
     "shell.execute_reply.started": "2025-06-18T21:49:55.792603Z"
    },
    "trusted": true
   },
   "outputs": [
    {
     "data": {
      "text/html": [
       "<div>\n",
       "<style scoped>\n",
       "    .dataframe tbody tr th:only-of-type {\n",
       "        vertical-align: middle;\n",
       "    }\n",
       "\n",
       "    .dataframe tbody tr th {\n",
       "        vertical-align: top;\n",
       "    }\n",
       "\n",
       "    .dataframe thead th {\n",
       "        text-align: right;\n",
       "    }\n",
       "</style>\n",
       "<table border=\"1\" class=\"dataframe\">\n",
       "  <thead>\n",
       "    <tr style=\"text-align: right;\">\n",
       "      <th></th>\n",
       "      <th>tweet_text</th>\n",
       "      <th>sentiment</th>\n",
       "    </tr>\n",
       "  </thead>\n",
       "  <tbody>\n",
       "    <tr>\n",
       "      <th>0</th>\n",
       "      <td>@WayneRooney @ColeenRoo I wish you were showin...</td>\n",
       "      <td>NEUTRAL</td>\n",
       "    </tr>\n",
       "    <tr>\n",
       "      <th>1</th>\n",
       "      <td>@CraneJ3 @hashman88 @LukaszFabianski Man raise...</td>\n",
       "      <td>NEUTRAL</td>\n",
       "    </tr>\n",
       "    <tr>\n",
       "      <th>2</th>\n",
       "      <td>Who else but @kschmeichel1 for @Budweiser #Man...</td>\n",
       "      <td>NEUTRAL</td>\n",
       "    </tr>\n",
       "    <tr>\n",
       "      <th>3</th>\n",
       "      <td>This needs to be the new ozil song @MesutOzil1...</td>\n",
       "      <td>NEUTRAL</td>\n",
       "    </tr>\n",
       "    <tr>\n",
       "      <th>4</th>\n",
       "      <td>#Ramos_The_Animal am not surprised from your f...</td>\n",
       "      <td>NEUTRAL</td>\n",
       "    </tr>\n",
       "    <tr>\n",
       "      <th>...</th>\n",
       "      <td>...</td>\n",
       "      <td>...</td>\n",
       "    </tr>\n",
       "    <tr>\n",
       "      <th>23995</th>\n",
       "      <td>@NabilFekir Go and prove them wrong pal. Your ...</td>\n",
       "      <td>NEGATIVE</td>\n",
       "    </tr>\n",
       "    <tr>\n",
       "      <th>23996</th>\n",
       "      <td>@SergioRamos Terrible player on the face of th...</td>\n",
       "      <td>NEGATIVE</td>\n",
       "    </tr>\n",
       "    <tr>\n",
       "      <th>23997</th>\n",
       "      <td>The Liverpool anthem is you'll never walk alon...</td>\n",
       "      <td>NEGATIVE</td>\n",
       "    </tr>\n",
       "    <tr>\n",
       "      <th>23998</th>\n",
       "      <td>@England no creativity in the final third... h...</td>\n",
       "      <td>NEGATIVE</td>\n",
       "    </tr>\n",
       "    <tr>\n",
       "      <th>23999</th>\n",
       "      <td>@paulpogba @adidasfootball Tell your idiotic a...</td>\n",
       "      <td>NEGATIVE</td>\n",
       "    </tr>\n",
       "  </tbody>\n",
       "</table>\n",
       "<p>24000 rows × 2 columns</p>\n",
       "</div>"
      ],
      "text/plain": [
       "                                              tweet_text sentiment\n",
       "0      @WayneRooney @ColeenRoo I wish you were showin...   NEUTRAL\n",
       "1      @CraneJ3 @hashman88 @LukaszFabianski Man raise...   NEUTRAL\n",
       "2      Who else but @kschmeichel1 for @Budweiser #Man...   NEUTRAL\n",
       "3      This needs to be the new ozil song @MesutOzil1...   NEUTRAL\n",
       "4      #Ramos_The_Animal am not surprised from your f...   NEUTRAL\n",
       "...                                                  ...       ...\n",
       "23995  @NabilFekir Go and prove them wrong pal. Your ...  NEGATIVE\n",
       "23996  @SergioRamos Terrible player on the face of th...  NEGATIVE\n",
       "23997  The Liverpool anthem is you'll never walk alon...  NEGATIVE\n",
       "23998  @England no creativity in the final third... h...  NEGATIVE\n",
       "23999  @paulpogba @adidasfootball Tell your idiotic a...  NEGATIVE\n",
       "\n",
       "[24000 rows x 2 columns]"
      ]
     },
     "execution_count": 28,
     "metadata": {},
     "output_type": "execute_result"
    }
   ],
   "source": [
    "balanced_en_train_data"
   ]
  },
  {
   "cell_type": "code",
   "execution_count": 29,
   "metadata": {
    "execution": {
     "iopub.execute_input": "2025-06-18T21:49:55.809854Z",
     "iopub.status.busy": "2025-06-18T21:49:55.809651Z",
     "iopub.status.idle": "2025-06-18T21:49:55.827055Z",
     "shell.execute_reply": "2025-06-18T21:49:55.826494Z",
     "shell.execute_reply.started": "2025-06-18T21:49:55.809840Z"
    },
    "trusted": true
   },
   "outputs": [],
   "source": [
    " balanced_en_train_data = balanced_en_train_data.rename(columns={\"sentiment\":\"labels\",\"tweet_text\": \"Text\"})"
   ]
  },
  {
   "cell_type": "code",
   "execution_count": 30,
   "metadata": {
    "execution": {
     "iopub.execute_input": "2025-06-18T21:49:55.827914Z",
     "iopub.status.busy": "2025-06-18T21:49:55.827707Z",
     "iopub.status.idle": "2025-06-18T21:49:55.972098Z",
     "shell.execute_reply": "2025-06-18T21:49:55.971409Z",
     "shell.execute_reply.started": "2025-06-18T21:49:55.827900Z"
    },
    "trusted": true
   },
   "outputs": [
    {
     "data": {
      "image/png": "[encoded data removed]",
      "text/plain": [
       "<Figure size 600x400 with 1 Axes>"
      ]
     },
     "metadata": {},
     "output_type": "display_data"
    }
   ],
   "source": [
    "plt.figure(figsize=(6,4))\n",
    "sns.countplot(data=balanced_en_train_data, x='labels', order=['NEUTRAL', 'POSITIVE', 'NEGATIVE'], palette='Set2')\n",
    "plt.title('Distribution of Sentiment Labels')\n",
    "plt.xlabel('Sentiment')\n",
    "plt.ylabel('Count')\n",
    "plt.show()"
   ]
  },
  {
   "cell_type": "markdown",
   "metadata": {},
   "source": [
    "# EN Test Data"
   ]
  },
  {
   "cell_type": "code",
   "execution_count": 31,
   "metadata": {
    "execution": {
     "iopub.execute_input": "2025-06-18T21:49:55.972983Z",
     "iopub.status.busy": "2025-06-18T21:49:55.972805Z",
     "iopub.status.idle": "2025-06-18T21:49:55.979808Z",
     "shell.execute_reply": "2025-06-18T21:49:55.979129Z",
     "shell.execute_reply.started": "2025-06-18T21:49:55.972969Z"
    },
    "trusted": true
   },
   "outputs": [],
   "source": [
    "samples_data_test=en_data[200000:300000].drop([\"tweet_id\",\"language\" ,\"sentiment_score\",\"tweet_date_created\"],axis=1)"
   ]
  },
  {
   "cell_type": "code",
   "execution_count": 32,
   "metadata": {
    "execution": {
     "iopub.execute_input": "2025-06-18T21:49:55.980803Z",
     "iopub.status.busy": "2025-06-18T21:49:55.980588Z",
     "iopub.status.idle": "2025-06-18T21:49:56.000811Z",
     "shell.execute_reply": "2025-06-18T21:49:56.000155Z",
     "shell.execute_reply.started": "2025-06-18T21:49:55.980787Z"
    },
    "trusted": true
   },
   "outputs": [],
   "source": [
    "samples_data_test = samples_data_test.rename(columns={\"tweet_text\": \"Text\",\"sentiment\": \"labels\"})"
   ]
  },
  {
   "cell_type": "code",
   "execution_count": 33,
   "metadata": {
    "execution": {
     "iopub.execute_input": "2025-06-18T21:49:56.001727Z",
     "iopub.status.busy": "2025-06-18T21:49:56.001515Z",
     "iopub.status.idle": "2025-06-18T21:49:56.011496Z",
     "shell.execute_reply": "2025-06-18T21:49:56.010605Z",
     "shell.execute_reply.started": "2025-06-18T21:49:56.001703Z"
    },
    "trusted": true
   },
   "outputs": [
    {
     "data": {
      "text/html": [
       "<div>\n",
       "<style scoped>\n",
       "    .dataframe tbody tr th:only-of-type {\n",
       "        vertical-align: middle;\n",
       "    }\n",
       "\n",
       "    .dataframe tbody tr th {\n",
       "        vertical-align: top;\n",
       "    }\n",
       "\n",
       "    .dataframe thead th {\n",
       "        text-align: right;\n",
       "    }\n",
       "</style>\n",
       "<table border=\"1\" class=\"dataframe\">\n",
       "  <thead>\n",
       "    <tr style=\"text-align: right;\">\n",
       "      <th></th>\n",
       "      <th>Text</th>\n",
       "      <th>labels</th>\n",
       "    </tr>\n",
       "  </thead>\n",
       "  <tbody>\n",
       "    <tr>\n",
       "      <th>200000</th>\n",
       "      <td>I vote @mzanka for @Budweiser #ManoftheMatch #...</td>\n",
       "      <td>NEUTRAL</td>\n",
       "    </tr>\n",
       "    <tr>\n",
       "      <th>200001</th>\n",
       "      <td>@markdokeefe @REHopkinson @Sio_Chamberlain @WO...</td>\n",
       "      <td>NEUTRAL</td>\n",
       "    </tr>\n",
       "    <tr>\n",
       "      <th>200002</th>\n",
       "      <td>@TimGossage @Tim_Cahill @ALeague Hey Ive hear...</td>\n",
       "      <td>NEUTRAL</td>\n",
       "    </tr>\n",
       "    <tr>\n",
       "      <th>200003</th>\n",
       "      <td>Who else but @simonkjaer1989 for @Budweiser #M...</td>\n",
       "      <td>NEUTRAL</td>\n",
       "    </tr>\n",
       "    <tr>\n",
       "      <th>200004</th>\n",
       "      <td>@SMignolet @axelwitsel28 @Fellaini @dries_mert...</td>\n",
       "      <td>NEUTRAL</td>\n",
       "    </tr>\n",
       "    <tr>\n",
       "      <th>...</th>\n",
       "      <td>...</td>\n",
       "      <td>...</td>\n",
       "    </tr>\n",
       "    <tr>\n",
       "      <th>299995</th>\n",
       "      <td>@RealistYahz @Rashford101 @AnthonyMartial I do...</td>\n",
       "      <td>NEUTRAL</td>\n",
       "    </tr>\n",
       "    <tr>\n",
       "      <th>299996</th>\n",
       "      <td>@ash_froment @TeamMessi @Cristiano Riley doesn...</td>\n",
       "      <td>NEUTRAL</td>\n",
       "    </tr>\n",
       "    <tr>\n",
       "      <th>299997</th>\n",
       "      <td>@willy_caballero whats the point of you even ...</td>\n",
       "      <td>NEUTRAL</td>\n",
       "    </tr>\n",
       "    <tr>\n",
       "      <th>299998</th>\n",
       "      <td>Uli Hoeness comments on @MesutOzil1088 retire...</td>\n",
       "      <td>NEUTRAL</td>\n",
       "    </tr>\n",
       "    <tr>\n",
       "      <th>299999</th>\n",
       "      <td>@Rufyo808 @OdoiStuff @brfootball @hazardeden10...</td>\n",
       "      <td>NEUTRAL</td>\n",
       "    </tr>\n",
       "  </tbody>\n",
       "</table>\n",
       "<p>100000 rows × 2 columns</p>\n",
       "</div>"
      ],
      "text/plain": [
       "                                                     Text   labels\n",
       "200000  I vote @mzanka for @Budweiser #ManoftheMatch #...  NEUTRAL\n",
       "200001  @markdokeefe @REHopkinson @Sio_Chamberlain @WO...  NEUTRAL\n",
       "200002  @TimGossage @Tim_Cahill @ALeague Hey Ive hear...  NEUTRAL\n",
       "200003  Who else but @simonkjaer1989 for @Budweiser #M...  NEUTRAL\n",
       "200004  @SMignolet @axelwitsel28 @Fellaini @dries_mert...  NEUTRAL\n",
       "...                                                   ...      ...\n",
       "299995  @RealistYahz @Rashford101 @AnthonyMartial I do...  NEUTRAL\n",
       "299996  @ash_froment @TeamMessi @Cristiano Riley doesn...  NEUTRAL\n",
       "299997  @willy_caballero whats the point of you even ...  NEUTRAL\n",
       "299998  Uli Hoeness comments on @MesutOzil1088 retire...  NEUTRAL\n",
       "299999  @Rufyo808 @OdoiStuff @brfootball @hazardeden10...  NEUTRAL\n",
       "\n",
       "[100000 rows x 2 columns]"
      ]
     },
     "execution_count": 33,
     "metadata": {},
     "output_type": "execute_result"
    }
   ],
   "source": [
    "samples_data_test"
   ]
  },
  {
   "cell_type": "code",
   "execution_count": 34,
   "metadata": {
    "execution": {
     "iopub.execute_input": "2025-06-18T21:49:56.013185Z",
     "iopub.status.busy": "2025-06-18T21:49:56.012374Z",
     "iopub.status.idle": "2025-06-18T21:49:56.034083Z",
     "shell.execute_reply": "2025-06-18T21:49:56.033339Z",
     "shell.execute_reply.started": "2025-06-18T21:49:56.013168Z"
    },
    "trusted": true
   },
   "outputs": [
    {
     "data": {
      "text/plain": [
       "labels\n",
       "NEUTRAL     67720\n",
       "POSITIVE    25948\n",
       "NEGATIVE     5669\n",
       "MIXED         663\n",
       "Name: count, dtype: int64"
      ]
     },
     "execution_count": 34,
     "metadata": {},
     "output_type": "execute_result"
    }
   ],
   "source": [
    "samples_data_test[\"labels\"].value_counts()"
   ]
  },
  {
   "cell_type": "code",
   "execution_count": 35,
   "metadata": {
    "execution": {
     "iopub.execute_input": "2025-06-18T21:49:56.035019Z",
     "iopub.status.busy": "2025-06-18T21:49:56.034746Z",
     "iopub.status.idle": "2025-06-18T21:49:56.080513Z",
     "shell.execute_reply": "2025-06-18T21:49:56.079802Z",
     "shell.execute_reply.started": "2025-06-18T21:49:56.034986Z"
    },
    "trusted": true
   },
   "outputs": [],
   "source": [
    "en_neutral_samples_test = samples_data_test[samples_data_test[\"labels\"] == \"NEUTRAL\"].sample(n=1300, random_state=42)\n",
    "en_positive_samples_test = samples_data_test[samples_data_test[\"labels\"] == \"POSITIVE\"].sample(n=1300, random_state=42)\n",
    "en_negative_samples_test = samples_data_test[samples_data_test[\"labels\"] == \"NEGATIVE\"].sample(n=1300, random_state=42)"
   ]
  },
  {
   "cell_type": "code",
   "execution_count": 36,
   "metadata": {
    "execution": {
     "iopub.execute_input": "2025-06-18T21:49:56.081662Z",
     "iopub.status.busy": "2025-06-18T21:49:56.081404Z",
     "iopub.status.idle": "2025-06-18T21:49:56.085587Z",
     "shell.execute_reply": "2025-06-18T21:49:56.084861Z",
     "shell.execute_reply.started": "2025-06-18T21:49:56.081642Z"
    },
    "trusted": true
   },
   "outputs": [],
   "source": [
    "balanced_en_test_data = pd.concat([en_neutral_samples_test, en_positive_samples_test, en_negative_samples_test], ignore_index=True)"
   ]
  },
  {
   "cell_type": "code",
   "execution_count": 37,
   "metadata": {
    "execution": {
     "iopub.execute_input": "2025-06-18T21:49:56.086411Z",
     "iopub.status.busy": "2025-06-18T21:49:56.086227Z",
     "iopub.status.idle": "2025-06-18T21:49:56.103099Z",
     "shell.execute_reply": "2025-06-18T21:49:56.102505Z",
     "shell.execute_reply.started": "2025-06-18T21:49:56.086397Z"
    },
    "trusted": true
   },
   "outputs": [
    {
     "data": {
      "text/plain": [
       "labels\n",
       "NEUTRAL     1300\n",
       "POSITIVE    1300\n",
       "NEGATIVE    1300\n",
       "Name: count, dtype: int64"
      ]
     },
     "execution_count": 37,
     "metadata": {},
     "output_type": "execute_result"
    }
   ],
   "source": [
    "balanced_en_test_data[\"labels\"].value_counts()"
   ]
  },
  {
   "cell_type": "markdown",
   "metadata": {},
   "source": [
    "============================================================="
   ]
  },
  {
   "cell_type": "code",
   "execution_count": 38,
   "metadata": {
    "execution": {
     "iopub.execute_input": "2025-06-18T21:49:56.104117Z",
     "iopub.status.busy": "2025-06-18T21:49:56.103864Z",
     "iopub.status.idle": "2025-06-18T21:49:56.122255Z",
     "shell.execute_reply": "2025-06-18T21:49:56.121558Z",
     "shell.execute_reply.started": "2025-06-18T21:49:56.104076Z"
    },
    "trusted": true
   },
   "outputs": [],
   "source": [
    "df_train = pd.concat([balanced_ar_train_data, balanced_en_train_data], ignore_index=True)\n",
    "df_test = pd.concat([balanced_ar_test_data, balanced_en_test_data], ignore_index=True)\n"
   ]
  },
  {
   "cell_type": "code",
   "execution_count": 39,
   "metadata": {
    "execution": {
     "iopub.execute_input": "2025-06-18T21:49:56.123138Z",
     "iopub.status.busy": "2025-06-18T21:49:56.122971Z",
     "iopub.status.idle": "2025-06-18T21:49:56.146856Z",
     "shell.execute_reply": "2025-06-18T21:49:56.146181Z",
     "shell.execute_reply.started": "2025-06-18T21:49:56.123125Z"
    },
    "trusted": true
   },
   "outputs": [
    {
     "name": "stdout",
     "output_type": "stream",
     "text": [
      "<class 'pandas.core.frame.DataFrame'>\n",
      "RangeIndex: 7800 entries, 0 to 7799\n",
      "Data columns (total 2 columns):\n",
      " #   Column  Non-Null Count  Dtype \n",
      "---  ------  --------------  ----- \n",
      " 0   Text    7800 non-null   object\n",
      " 1   labels  7800 non-null   object\n",
      "dtypes: object(2)\n",
      "memory usage: 122.0+ KB\n"
     ]
    }
   ],
   "source": [
    "df_test.info()"
   ]
  },
  {
   "cell_type": "code",
   "execution_count": 40,
   "metadata": {
    "execution": {
     "iopub.execute_input": "2025-06-18T21:49:56.147800Z",
     "iopub.status.busy": "2025-06-18T21:49:56.147601Z",
     "iopub.status.idle": "2025-06-18T21:49:56.174790Z",
     "shell.execute_reply": "2025-06-18T21:49:56.174127Z",
     "shell.execute_reply.started": "2025-06-18T21:49:56.147785Z"
    },
    "trusted": true
   },
   "outputs": [
    {
     "name": "stdout",
     "output_type": "stream",
     "text": [
      "<class 'pandas.core.frame.DataFrame'>\n",
      "RangeIndex: 48000 entries, 0 to 47999\n",
      "Data columns (total 2 columns):\n",
      " #   Column  Non-Null Count  Dtype \n",
      "---  ------  --------------  ----- \n",
      " 0   labels  48000 non-null  object\n",
      " 1   Text    48000 non-null  object\n",
      "dtypes: object(2)\n",
      "memory usage: 750.1+ KB\n"
     ]
    }
   ],
   "source": [
    "df_train.info()"
   ]
  },
  {
   "cell_type": "code",
   "execution_count": 41,
   "metadata": {
    "execution": {
     "iopub.execute_input": "2025-06-18T21:49:56.175974Z",
     "iopub.status.busy": "2025-06-18T21:49:56.175719Z",
     "iopub.status.idle": "2025-06-18T21:49:56.233000Z",
     "shell.execute_reply": "2025-06-18T21:49:56.232142Z",
     "shell.execute_reply.started": "2025-06-18T21:49:56.175955Z"
    },
    "trusted": true
   },
   "outputs": [
    {
     "name": "stderr",
     "output_type": "stream",
     "text": [
      "/tmp/ipykernel_35/1986837530.py:1: FutureWarning: Downcasting behavior in `replace` is deprecated and will be removed in a future version. To retain the old behavior, explicitly call `result.infer_objects(copy=False)`. To opt-in to the future behavior, set `pd.set_option('future.no_silent_downcasting', True)`\n",
      "  df_train[\"labels\"]= df_train[\"labels\"].replace({\n"
     ]
    }
   ],
   "source": [
    " \n",
    "df_train[\"labels\"]= df_train[\"labels\"].replace({\n",
    "        \"neutral\"   : 1, \n",
    "        \"positive\"  : 2,\n",
    "        \"negative\"  : 0,\n",
    "        \"NEUTRAL\"   : 1,\n",
    "        \"POSITIVE\"  : 2,\n",
    "        \"NEGATIVE\"  : 0,\n",
    "})\n"
   ]
  },
  {
   "cell_type": "code",
   "execution_count": 42,
   "metadata": {
    "execution": {
     "iopub.execute_input": "2025-06-18T21:49:56.234095Z",
     "iopub.status.busy": "2025-06-18T21:49:56.233808Z",
     "iopub.status.idle": "2025-06-18T21:49:56.246215Z",
     "shell.execute_reply": "2025-06-18T21:49:56.245587Z",
     "shell.execute_reply.started": "2025-06-18T21:49:56.234076Z"
    },
    "trusted": true
   },
   "outputs": [
    {
     "name": "stderr",
     "output_type": "stream",
     "text": [
      "/tmp/ipykernel_35/4004229202.py:1: FutureWarning: Downcasting behavior in `replace` is deprecated and will be removed in a future version. To retain the old behavior, explicitly call `result.infer_objects(copy=False)`. To opt-in to the future behavior, set `pd.set_option('future.no_silent_downcasting', True)`\n",
      "  df_test[\"labels\"]= df_test[\"labels\"].replace({\n"
     ]
    }
   ],
   "source": [
    "df_test[\"labels\"]= df_test[\"labels\"].replace({\n",
    "       \"neutral\"   : 1, \n",
    "        \"positive\"  : 2,\n",
    "        \"negative\"  : 0,\n",
    "        \"NEUTRAL\"   : 1,\n",
    "        \"POSITIVE\"  : 2,\n",
    "        \"NEGATIVE\"  : 0,\n",
    "})"
   ]
  },
  {
   "cell_type": "code",
   "execution_count": 43,
   "metadata": {
    "execution": {
     "iopub.execute_input": "2025-06-18T21:49:56.247140Z",
     "iopub.status.busy": "2025-06-18T21:49:56.246898Z",
     "iopub.status.idle": "2025-06-18T21:49:56.253940Z",
     "shell.execute_reply": "2025-06-18T21:49:56.253404Z",
     "shell.execute_reply.started": "2025-06-18T21:49:56.247121Z"
    },
    "trusted": true
   },
   "outputs": [],
   "source": [
    "df_train[\"labels\"] = df_train[\"labels\"].astype(int)\n",
    "df_test[\"labels\"] = df_test[\"labels\"].astype(int)"
   ]
  },
  {
   "cell_type": "code",
   "execution_count": 44,
   "metadata": {
    "execution": {
     "iopub.execute_input": "2025-06-18T21:49:56.254911Z",
     "iopub.status.busy": "2025-06-18T21:49:56.254643Z",
     "iopub.status.idle": "2025-06-18T21:49:56.273901Z",
     "shell.execute_reply": "2025-06-18T21:49:56.273156Z",
     "shell.execute_reply.started": "2025-06-18T21:49:56.254890Z"
    },
    "trusted": true
   },
   "outputs": [
    {
     "data": {
      "text/html": [
       "<div>\n",
       "<style scoped>\n",
       "    .dataframe tbody tr th:only-of-type {\n",
       "        vertical-align: middle;\n",
       "    }\n",
       "\n",
       "    .dataframe tbody tr th {\n",
       "        vertical-align: top;\n",
       "    }\n",
       "\n",
       "    .dataframe thead th {\n",
       "        text-align: right;\n",
       "    }\n",
       "</style>\n",
       "<table border=\"1\" class=\"dataframe\">\n",
       "  <thead>\n",
       "    <tr style=\"text-align: right;\">\n",
       "      <th></th>\n",
       "      <th>Text</th>\n",
       "      <th>labels</th>\n",
       "    </tr>\n",
       "  </thead>\n",
       "  <tbody>\n",
       "    <tr>\n",
       "      <th>0</th>\n",
       "      <td>#ذات_مومنت لما تقدم عرض عمل جديد متحمسله عمرك ...</td>\n",
       "      <td>1</td>\n",
       "    </tr>\n",
       "    <tr>\n",
       "      <th>1</th>\n",
       "      <td>و الله تستاهل ياقلبي ليه تميل مكنت خالي انت اس...</td>\n",
       "      <td>1</td>\n",
       "    </tr>\n",
       "    <tr>\n",
       "      <th>2</th>\n",
       "      <td>حركة تمرد صاحبة انتصار 30 يونيو طالبت بالبرادع...</td>\n",
       "      <td>1</td>\n",
       "    </tr>\n",
       "    <tr>\n",
       "      <th>3</th>\n",
       "      <td>الغاء الاعلان الدستورى المكمل الذى كنا ضده منذ...</td>\n",
       "      <td>1</td>\n",
       "    </tr>\n",
       "    <tr>\n",
       "      <th>4</th>\n",
       "      <td>انا محنيش جبيني غير لرب الخلق ، ولا بالحرق ولا...</td>\n",
       "      <td>1</td>\n",
       "    </tr>\n",
       "    <tr>\n",
       "      <th>...</th>\n",
       "      <td>...</td>\n",
       "      <td>...</td>\n",
       "    </tr>\n",
       "    <tr>\n",
       "      <th>7795</th>\n",
       "      <td>@SergioRamos You are just a dirty player alway...</td>\n",
       "      <td>0</td>\n",
       "    </tr>\n",
       "    <tr>\n",
       "      <th>7796</th>\n",
       "      <td>@5liveSport @IanWright0 @sterling7 Complete ru...</td>\n",
       "      <td>0</td>\n",
       "    </tr>\n",
       "    <tr>\n",
       "      <th>7797</th>\n",
       "      <td>@EssexLFC1 @MrDtAFC @MatteoGuendouzi 80% pass ...</td>\n",
       "      <td>0</td>\n",
       "    </tr>\n",
       "    <tr>\n",
       "      <th>7798</th>\n",
       "      <td>@fifacom_es @Cristiano @lukamodric10 @MoSalah ...</td>\n",
       "      <td>0</td>\n",
       "    </tr>\n",
       "    <tr>\n",
       "      <th>7799</th>\n",
       "      <td>@Manuel_Neuer is just an idiot. You are a GOAL...</td>\n",
       "      <td>0</td>\n",
       "    </tr>\n",
       "  </tbody>\n",
       "</table>\n",
       "<p>7800 rows × 2 columns</p>\n",
       "</div>"
      ],
      "text/plain": [
       "                                                   Text  labels\n",
       "0     #ذات_مومنت لما تقدم عرض عمل جديد متحمسله عمرك ...       1\n",
       "1     و الله تستاهل ياقلبي ليه تميل مكنت خالي انت اس...       1\n",
       "2     حركة تمرد صاحبة انتصار 30 يونيو طالبت بالبرادع...       1\n",
       "3     الغاء الاعلان الدستورى المكمل الذى كنا ضده منذ...       1\n",
       "4     انا محنيش جبيني غير لرب الخلق ، ولا بالحرق ولا...       1\n",
       "...                                                 ...     ...\n",
       "7795  @SergioRamos You are just a dirty player alway...       0\n",
       "7796  @5liveSport @IanWright0 @sterling7 Complete ru...       0\n",
       "7797  @EssexLFC1 @MrDtAFC @MatteoGuendouzi 80% pass ...       0\n",
       "7798  @fifacom_es @Cristiano @lukamodric10 @MoSalah ...       0\n",
       "7799  @Manuel_Neuer is just an idiot. You are a GOAL...       0\n",
       "\n",
       "[7800 rows x 2 columns]"
      ]
     },
     "execution_count": 44,
     "metadata": {},
     "output_type": "execute_result"
    }
   ],
   "source": [
    "df_test"
   ]
  },
  {
   "cell_type": "code",
   "execution_count": 45,
   "metadata": {
    "execution": {
     "iopub.execute_input": "2025-06-18T21:49:56.274958Z",
     "iopub.status.busy": "2025-06-18T21:49:56.274659Z",
     "iopub.status.idle": "2025-06-18T21:49:56.289937Z",
     "shell.execute_reply": "2025-06-18T21:49:56.289230Z",
     "shell.execute_reply.started": "2025-06-18T21:49:56.274941Z"
    },
    "trusted": true
   },
   "outputs": [],
   "source": [
    "# train_dataset = Dataset.from_pandas(df_train)\n",
    "# test_dataset = Dataset.from_pandas(df_test)\n",
    "\n",
    " "
   ]
  },
  {
   "cell_type": "code",
   "execution_count": 46,
   "metadata": {
    "execution": {
     "iopub.execute_input": "2025-06-18T21:49:56.290917Z",
     "iopub.status.busy": "2025-06-18T21:49:56.290673Z",
     "iopub.status.idle": "2025-06-18T21:49:56.313099Z",
     "shell.execute_reply": "2025-06-18T21:49:56.312575Z",
     "shell.execute_reply.started": "2025-06-18T21:49:56.290902Z"
    },
    "trusted": true
   },
   "outputs": [
    {
     "data": {
      "text/html": [
       "<div>\n",
       "<style scoped>\n",
       "    .dataframe tbody tr th:only-of-type {\n",
       "        vertical-align: middle;\n",
       "    }\n",
       "\n",
       "    .dataframe tbody tr th {\n",
       "        vertical-align: top;\n",
       "    }\n",
       "\n",
       "    .dataframe thead th {\n",
       "        text-align: right;\n",
       "    }\n",
       "</style>\n",
       "<table border=\"1\" class=\"dataframe\">\n",
       "  <thead>\n",
       "    <tr style=\"text-align: right;\">\n",
       "      <th></th>\n",
       "      <th>labels</th>\n",
       "      <th>Text</th>\n",
       "    </tr>\n",
       "  </thead>\n",
       "  <tbody>\n",
       "    <tr>\n",
       "      <th>0</th>\n",
       "      <td>1</td>\n",
       "      <td>@mhrsd_care السلام عليكم كيف اقدر اقدم بلاغ..؟</td>\n",
       "    </tr>\n",
       "    <tr>\n",
       "      <th>1</th>\n",
       "      <td>1</td>\n",
       "      <td>@MoweSa تم طلب تصريح تم رفض ذلك ماهي الأسباب. ...</td>\n",
       "    </tr>\n",
       "    <tr>\n",
       "      <th>2</th>\n",
       "      <td>1</td>\n",
       "      <td>اللهم إرحم من فارق دِيَارنا وأصبح القبر داره  ...</td>\n",
       "    </tr>\n",
       "    <tr>\n",
       "      <th>3</th>\n",
       "      <td>1</td>\n",
       "      <td>قال علي رضي الله عنه للحسن : كن في الدنيا ببدن...</td>\n",
       "    </tr>\n",
       "    <tr>\n",
       "      <th>4</th>\n",
       "      <td>1</td>\n",
       "      <td>#حذف_امازون_وسوق_كوم انا مع. وطني ووطني مصرح ا...</td>\n",
       "    </tr>\n",
       "    <tr>\n",
       "      <th>...</th>\n",
       "      <td>...</td>\n",
       "      <td>...</td>\n",
       "    </tr>\n",
       "    <tr>\n",
       "      <th>47995</th>\n",
       "      <td>0</td>\n",
       "      <td>@NabilFekir Go and prove them wrong pal. Your ...</td>\n",
       "    </tr>\n",
       "    <tr>\n",
       "      <th>47996</th>\n",
       "      <td>0</td>\n",
       "      <td>@SergioRamos Terrible player on the face of th...</td>\n",
       "    </tr>\n",
       "    <tr>\n",
       "      <th>47997</th>\n",
       "      <td>0</td>\n",
       "      <td>The Liverpool anthem is you'll never walk alon...</td>\n",
       "    </tr>\n",
       "    <tr>\n",
       "      <th>47998</th>\n",
       "      <td>0</td>\n",
       "      <td>@England no creativity in the final third... h...</td>\n",
       "    </tr>\n",
       "    <tr>\n",
       "      <th>47999</th>\n",
       "      <td>0</td>\n",
       "      <td>@paulpogba @adidasfootball Tell your idiotic a...</td>\n",
       "    </tr>\n",
       "  </tbody>\n",
       "</table>\n",
       "<p>48000 rows × 2 columns</p>\n",
       "</div>"
      ],
      "text/plain": [
       "       labels                                               Text\n",
       "0           1     @mhrsd_care السلام عليكم كيف اقدر اقدم بلاغ..؟\n",
       "1           1  @MoweSa تم طلب تصريح تم رفض ذلك ماهي الأسباب. ...\n",
       "2           1  اللهم إرحم من فارق دِيَارنا وأصبح القبر داره  ...\n",
       "3           1  قال علي رضي الله عنه للحسن : كن في الدنيا ببدن...\n",
       "4           1  #حذف_امازون_وسوق_كوم انا مع. وطني ووطني مصرح ا...\n",
       "...       ...                                                ...\n",
       "47995       0  @NabilFekir Go and prove them wrong pal. Your ...\n",
       "47996       0  @SergioRamos Terrible player on the face of th...\n",
       "47997       0  The Liverpool anthem is you'll never walk alon...\n",
       "47998       0  @England no creativity in the final third... h...\n",
       "47999       0  @paulpogba @adidasfootball Tell your idiotic a...\n",
       "\n",
       "[48000 rows x 2 columns]"
      ]
     },
     "execution_count": 46,
     "metadata": {},
     "output_type": "execute_result"
    }
   ],
   "source": [
    "df_train"
   ]
  },
  {
   "cell_type": "code",
   "execution_count": 47,
   "metadata": {
    "execution": {
     "iopub.execute_input": "2025-06-18T21:49:56.314017Z",
     "iopub.status.busy": "2025-06-18T21:49:56.313811Z",
     "iopub.status.idle": "2025-06-18T21:49:59.079989Z",
     "shell.execute_reply": "2025-06-18T21:49:59.079054Z",
     "shell.execute_reply.started": "2025-06-18T21:49:56.313990Z"
    },
    "trusted": true
   },
   "outputs": [
    {
     "data": {
      "application/vnd.jupyter.widget-view+json": {
       "model_id": "2ca69d41b9454467b0feca91c11dfbe3",
       "version_major": 2,
       "version_minor": 0
      },
      "text/plain": [
       "tokenizer_config.json:   0%|          | 0.00/443 [00:00<?, ?B/s]"
      ]
     },
     "metadata": {},
     "output_type": "display_data"
    },
    {
     "data": {
      "application/vnd.jupyter.widget-view+json": {
       "model_id": "099b7ba2e9e24994b614cab7fd51052e",
       "version_major": 2,
       "version_minor": 0
      },
      "text/plain": [
       "sentencepiece.bpe.model:   0%|          | 0.00/5.07M [00:00<?, ?B/s]"
      ]
     },
     "metadata": {},
     "output_type": "display_data"
    },
    {
     "data": {
      "application/vnd.jupyter.widget-view+json": {
       "model_id": "6bc4aa882e8a456a8909168c23b19100",
       "version_major": 2,
       "version_minor": 0
      },
      "text/plain": [
       "tokenizer.json:   0%|          | 0.00/17.1M [00:00<?, ?B/s]"
      ]
     },
     "metadata": {},
     "output_type": "display_data"
    },
    {
     "data": {
      "application/vnd.jupyter.widget-view+json": {
       "model_id": "3a681f26364a4167b65a3aa885baf558",
       "version_major": 2,
       "version_minor": 0
      },
      "text/plain": [
       "special_tokens_map.json:   0%|          | 0.00/280 [00:00<?, ?B/s]"
      ]
     },
     "metadata": {},
     "output_type": "display_data"
    }
   ],
   "source": [
    "model_name = \"cardiffnlp/twitter-xlm-roberta-base-sentiment-multilingual\"\n",
    "tokenizer = AutoTokenizer.from_pretrained(model_name)"
   ]
  },
  {
   "cell_type": "code",
   "execution_count": 48,
   "metadata": {
    "execution": {
     "iopub.execute_input": "2025-06-18T21:49:59.081080Z",
     "iopub.status.busy": "2025-06-18T21:49:59.080856Z",
     "iopub.status.idle": "2025-06-18T21:49:59.086606Z",
     "shell.execute_reply": "2025-06-18T21:49:59.085815Z",
     "shell.execute_reply.started": "2025-06-18T21:49:59.081063Z"
    },
    "trusted": true
   },
   "outputs": [],
   "source": [
    "class SentimentDataset(torch.utils.data.Dataset):\n",
    "    def __init__(self, dataframe, tokenizer, max_len=128):\n",
    "        self.texts = dataframe[\"Text\"].tolist()\n",
    "        self.labels = dataframe[\"labels\"].tolist()\n",
    "        self.tokenizer = tokenizer\n",
    "        self.max_len = max_len\n",
    "\n",
    "    def __len__(self):\n",
    "        return len(self.texts)\n",
    "\n",
    "    def __getitem__(self, idx):\n",
    "        text = self.texts[idx]\n",
    "        label = self.labels[idx]\n",
    "\n",
    "        encoding = self.tokenizer(\n",
    "            text,\n",
    "            truncation=True,\n",
    "            padding=\"max_length\",\n",
    "            max_length=self.max_len,\n",
    "            return_tensors=\"pt\"\n",
    "        )\n",
    "\n",
    "        return {\n",
    "            'input_ids': encoding['input_ids'].squeeze(0),\n",
    "            'attention_mask': encoding['attention_mask'].squeeze(0),\n",
    "            'labels': torch.tensor(label, dtype=torch.long)\n",
    "        }\n"
   ]
  },
  {
   "cell_type": "code",
   "execution_count": 49,
   "metadata": {
    "execution": {
     "iopub.execute_input": "2025-06-18T21:49:59.087577Z",
     "iopub.status.busy": "2025-06-18T21:49:59.087389Z",
     "iopub.status.idle": "2025-06-18T21:50:01.087709Z",
     "shell.execute_reply": "2025-06-18T21:50:01.087165Z",
     "shell.execute_reply.started": "2025-06-18T21:49:59.087563Z"
    },
    "trusted": true
   },
   "outputs": [],
   "source": [
    "from torch.utils.data import DataLoader\n",
    "tokenizer = AutoTokenizer.from_pretrained(\"cardiffnlp/twitter-xlm-roberta-base-sentiment-multilingual\")\n",
    "\n",
    "train_df, val_df = train_test_split(df_train, test_size=0.1, random_state=42, stratify=df_train[\"labels\"])\n",
    "\n",
    "train_dataset = SentimentDataset(train_df, tokenizer)\n",
    "val_dataset = SentimentDataset(val_df, tokenizer)\n",
    "test_dataset = SentimentDataset(df_test, tokenizer)\n",
    "\n",
    "train_loader = DataLoader(train_dataset, batch_size=16, shuffle=True)\n",
    "val_loader = DataLoader(val_dataset, batch_size=32)\n",
    "test_loader = DataLoader(test_dataset, batch_size=32)\n"
   ]
  },
  {
   "cell_type": "code",
   "execution_count": 50,
   "metadata": {
    "execution": {
     "iopub.execute_input": "2025-06-18T21:50:01.088526Z",
     "iopub.status.busy": "2025-06-18T21:50:01.088331Z",
     "iopub.status.idle": "2025-06-18T21:50:06.393142Z",
     "shell.execute_reply": "2025-06-18T21:50:06.392314Z",
     "shell.execute_reply.started": "2025-06-18T21:50:01.088511Z"
    },
    "trusted": true
   },
   "outputs": [
    {
     "data": {
      "application/vnd.jupyter.widget-view+json": {
       "model_id": "4e135102163249639145e84e7f1821b3",
       "version_major": 2,
       "version_minor": 0
      },
      "text/plain": [
       "config.json:   0%|          | 0.00/982 [00:00<?, ?B/s]"
      ]
     },
     "metadata": {},
     "output_type": "display_data"
    },
    {
     "data": {
      "application/vnd.jupyter.widget-view+json": {
       "model_id": "ada406a7527c4c7abf5468bd387c7a41",
       "version_major": 2,
       "version_minor": 0
      },
      "text/plain": [
       "pytorch_model.bin:   0%|          | 0.00/1.11G [00:00<?, ?B/s]"
      ]
     },
     "metadata": {},
     "output_type": "display_data"
    }
   ],
   "source": [
    "from torch.optim import AdamW\n",
    "from tqdm import tqdm\n",
    "import torch\n",
    "from transformers import get_scheduler\n",
    "\n",
    "model = AutoModelForSequenceClassification.from_pretrained(model_name, num_labels=3)\n",
    "device = torch.device(\"cuda\" if torch.cuda.is_available() else \"cpu\")\n",
    "model.to(device)\n",
    "\n",
    "\n",
    "optimizer = AdamW(model.parameters(), lr=3e-5)\n",
    "epochs = 5\n",
    "num_training_steps = epochs * len(train_loader)\n",
    "lr_scheduler = get_scheduler(\"linear\", optimizer=optimizer, num_warmup_steps=0, num_training_steps=num_training_steps)\n",
    "\n"
   ]
  },
  {
   "cell_type": "code",
   "execution_count": 51,
   "metadata": {
    "execution": {
     "iopub.execute_input": "2025-06-18T21:50:06.394664Z",
     "iopub.status.busy": "2025-06-18T21:50:06.394043Z",
     "iopub.status.idle": "2025-06-18T22:43:04.590564Z",
     "shell.execute_reply": "2025-06-18T22:43:04.589853Z",
     "shell.execute_reply.started": "2025-06-18T21:50:06.394638Z"
    },
    "trusted": true
   },
   "outputs": [
    {
     "name": "stderr",
     "output_type": "stream",
     "text": [
      "  0%|          | 0/2700 [00:00<?, ?it/s]"
     ]
    },
    {
     "data": {
      "application/vnd.jupyter.widget-view+json": {
       "model_id": "421ce07bbda243089b4a145d70dc6fba",
       "version_major": 2,
       "version_minor": 0
      },
      "text/plain": [
       "model.safetensors:   0%|          | 0.00/1.11G [00:00<?, ?B/s]"
      ]
     },
     "metadata": {},
     "output_type": "display_data"
    },
    {
     "name": "stderr",
     "output_type": "stream",
     "text": [
      "Epoch [1/5]: 100%|██████████| 2700/2700 [10:36<00:00,  4.24it/s, loss=0.641] \n",
      "Epoch [2/5]: 100%|██████████| 2700/2700 [10:35<00:00,  4.25it/s, loss=0.195] \n",
      "Epoch [3/5]: 100%|██████████| 2700/2700 [10:35<00:00,  4.25it/s, loss=0.299] \n",
      "Epoch [4/5]: 100%|██████████| 2700/2700 [10:35<00:00,  4.25it/s, loss=0.0659] \n",
      "Epoch [5/5]: 100%|██████████| 2700/2700 [10:35<00:00,  4.25it/s, loss=0.135]  \n"
     ]
    }
   ],
   "source": [
    "for epoch in range(epochs):\n",
    "    model.train()\n",
    "    total_loss = 0\n",
    "    loop = tqdm(train_loader, leave=True)\n",
    "    for batch in loop:\n",
    "        batch = {k: v.to(device) for k, v in batch.items()}\n",
    "\n",
    "        outputs = model(**batch)\n",
    "        loss = outputs.loss\n",
    "        loss.backward()\n",
    "\n",
    "        optimizer.step()\n",
    "        lr_scheduler.step()\n",
    "        optimizer.zero_grad()\n",
    "\n",
    "        total_loss += loss.item()\n",
    "        loop.set_description(f\"Epoch [{epoch+1}/{epochs}]\")\n",
    "        loop.set_postfix(loss=loss.item())\n"
   ]
  },
  {
   "cell_type": "code",
   "execution_count": null,
   "metadata": {
    "execution": {
     "iopub.execute_input": "2025-06-18T22:43:04.591658Z",
     "iopub.status.busy": "2025-06-18T22:43:04.591383Z",
     "iopub.status.idle": "2025-06-18T22:43:22.033520Z",
     "shell.execute_reply": "2025-06-18T22:43:22.032670Z",
     "shell.execute_reply.started": "2025-06-18T22:43:04.591634Z"
    },
    "trusted": true
   },
   "outputs": [
    {
     "name": "stdout",
     "output_type": "stream",
     "text": [
      "\n",
      "Validation Report for Epoch 5:\n",
      "              precision    recall  f1-score   support\n",
      "\n",
      "    Negative       0.83      0.86      0.85      1600\n",
      "     Neutral       0.81      0.74      0.77      1600\n",
      "    Positive       0.86      0.90      0.88      1600\n",
      "\n",
      "    accuracy                           0.84      4800\n",
      "   macro avg       0.83      0.84      0.83      4800\n",
      "weighted avg       0.83      0.84      0.83      4800\n",
      "\n"
     ]
    }
   ],
   "source": [
    "    model.eval()\n",
    "    val_preds, val_labels = [], []\n",
    "    with torch.no_grad():\n",
    "        for batch in val_loader:\n",
    "            batch = {k: v.to(device) for k, v in batch.items()}\n",
    "            outputs = model(**batch)\n",
    "            preds = torch.argmax(outputs.logits, dim=1)\n",
    "            val_preds.extend(preds.cpu().numpy())\n",
    "            val_labels.extend(batch[\"labels\"].cpu().numpy())\n",
    "\n",
    "    print(f\"\\nValidation Report for Epoch {epoch+1}:\")\n",
    "    print(classification_report(val_labels, val_preds, target_names=[\"Negative\", \"Neutral\", \"Positive\"]))\n"
   ]
  },
  {
   "cell_type": "code",
   "execution_count": 53,
   "metadata": {
    "execution": {
     "iopub.execute_input": "2025-06-18T22:43:22.034615Z",
     "iopub.status.busy": "2025-06-18T22:43:22.034365Z",
     "iopub.status.idle": "2025-06-18T22:43:50.279826Z",
     "shell.execute_reply": "2025-06-18T22:43:50.279040Z",
     "shell.execute_reply.started": "2025-06-18T22:43:22.034596Z"
    },
    "trusted": true
   },
   "outputs": [
    {
     "name": "stdout",
     "output_type": "stream",
     "text": [
      "\n",
      "Final Test Report:\n",
      "              precision    recall  f1-score   support\n",
      "\n",
      "    Negative       0.74      0.74      0.74      2600\n",
      "     Neutral       0.57      0.68      0.62      2600\n",
      "    Positive       0.81      0.67      0.74      2600\n",
      "\n",
      "    accuracy                           0.70      7800\n",
      "   macro avg       0.71      0.70      0.70      7800\n",
      "weighted avg       0.71      0.70      0.70      7800\n",
      "\n"
     ]
    }
   ],
   "source": [
    "model.eval()\n",
    "test_preds, test_labels = [], []\n",
    "with torch.no_grad():\n",
    "    for batch in test_loader:\n",
    "        batch = {k: v.to(device) for k, v in batch.items()}\n",
    "        outputs = model(**batch)\n",
    "        preds = torch.argmax(outputs.logits, dim=1)\n",
    "        test_preds.extend(preds.cpu().numpy())\n",
    "        test_labels.extend(batch[\"labels\"].cpu().numpy())\n",
    "\n",
    "print(\"\\nFinal Test Report:\")\n",
    "print(classification_report(test_labels, test_preds, target_names=[\"Negative\", \"Neutral\", \"Positive\"]))\n"
   ]
  }
 ],
 "metadata": {
  "kaggle": {
   "accelerator": "gpu",
   "dataSources": [
    {
     "datasetId": 7268531,
     "sourceId": 11591355,
     "sourceType": "datasetVersion"
    },
    {
     "datasetId": 7689483,
     "sourceId": 12206652,
     "sourceType": "datasetVersion"
    },
    {
     "datasetId": 7689667,
     "sourceId": 12206907,
     "sourceType": "datasetVersion"
    },
    {
     "datasetId": 7690148,
     "sourceId": 12207604,
     "sourceType": "datasetVersion"
    }
   ],
   "dockerImageVersionId": 31041,
   "isGpuEnabled": true,
   "isInternetEnabled": true,
   "language": "python",
   "sourceType": "notebook"
  },
  "kernelspec": {
   "display_name": "Python 3",
   "language": "python",
   "name": "python3"
  },
  "language_info": {
   "codemirror_mode": {
    "name": "ipython",
    "version": 3
   },
   "file_extension": ".py",
   "mimetype": "text/x-python",
   "name": "python",
   "nbconvert_exporter": "python",
   "pygments_lexer": "ipython3",
   "version": "3.11.11"
  }
 },
 "nbformat": 4,
 "nbformat_minor": 4
}
